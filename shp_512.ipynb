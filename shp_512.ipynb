{
 "cells": [
  {
   "cell_type": "code",
   "execution_count": 2,
   "metadata": {},
   "outputs": [
    {
     "ename": "AttributeError",
     "evalue": "'NoneType' object has no attribute 'GetGeoTransform'",
     "output_type": "error",
     "traceback": [
      "\u001b[1;31m---------------------------------------------------------------------------\u001b[0m",
      "\u001b[1;31mAttributeError\u001b[0m                            Traceback (most recent call last)",
      "Cell \u001b[1;32mIn[2], line 6\u001b[0m\n\u001b[0;32m      4\u001b[0m tiff_path \u001b[39m=\u001b[39m \u001b[39mr\u001b[39m\u001b[39m'\u001b[39m\u001b[39mC:\u001b[39m\u001b[39m\\\u001b[39m\u001b[39mUsers\u001b[39m\u001b[39m\\\u001b[39m\u001b[39mxdh\u001b[39m\u001b[39m\\\u001b[39m\u001b[39mDocuments\u001b[39m\u001b[39m\\\u001b[39m\u001b[39m自然资源部\u001b[39m\u001b[39m\\\u001b[39m\u001b[39m光伏2.tif\u001b[39m\u001b[39m'\u001b[39m\n\u001b[0;32m      5\u001b[0m tiff_ds \u001b[39m=\u001b[39m gdal\u001b[39m.\u001b[39mOpen(tiff_path)\n\u001b[1;32m----> 6\u001b[0m transform \u001b[39m=\u001b[39m tiff_ds\u001b[39m.\u001b[39;49mGetGeoTransform()\n\u001b[0;32m      8\u001b[0m \u001b[39m# 打开shp文件\u001b[39;00m\n\u001b[0;32m      9\u001b[0m path\u001b[39m=\u001b[39m\u001b[39mr\u001b[39m\u001b[39m\"\u001b[39m\u001b[39mC:\u001b[39m\u001b[39m\\\u001b[39m\u001b[39mUsers\u001b[39m\u001b[39m\\\u001b[39m\u001b[39mxdh\u001b[39m\u001b[39m\\\u001b[39m\u001b[39mDocuments\u001b[39m\u001b[39m\\\u001b[39m\u001b[39m自然资源部\u001b[39m\u001b[39m\\\u001b[39m\u001b[39m风机标注样本成果\u001b[39m\u001b[39m\\\u001b[39m\u001b[39m風機name_shp\u001b[39m\u001b[39m\\\u001b[39m\u001b[39moutput_file_F49E021010-DOM-202004.shp\u001b[39m\u001b[39m\"\u001b[39m\n",
      "\u001b[1;31mAttributeError\u001b[0m: 'NoneType' object has no attribute 'GetGeoTransform'"
     ]
    }
   ],
   "source": [
    "from osgeo import ogr, gdal\n",
    "\n",
    "\n",
    "tiff_path = r'C:\\Users\\xdh\\Documents\\自然资源部\\光伏2.tif'\n",
    "tiff_ds = gdal.Open(tiff_path)\n",
    "transform = tiff_ds.GetGeoTransform()\n",
    "\n",
    "# 打开shp文件\n",
    "path=r\"C:\\Users\\xdh\\Documents\\自然资源部\\风机标注样本成果\\風機name_shp\\output_file_F49E021010-DOM-202004.shp\"\n",
    "shp = ogr.Open(path)\n",
    "layer = shp.GetLayer()\n",
    "\n",
    "# 获取空间参考和边界框信息\n",
    "srs = layer.GetSpatialRef()\n",
    "xmin, xmax, ymin, ymax = layer.GetExtent()\n",
    "print(layer.GetExtent())\n",
    "print(transform[1])"
   ]
  },
  {
   "cell_type": "code",
   "execution_count": 2,
   "metadata": {},
   "outputs": [],
   "source": [
    "import numpy as np\n",
    "\n",
    "# 将边界框信息转换为像素坐标\n",
    "pixel_size = transform[1]  # 像素大小\n",
    "xres = yres = pixel_size\n",
    "xoff, yoff = xmin, ymax\n",
    "cols = int(np.ceil((xmax - xmin) / pixel_size))\n",
    "rows = int(np.ceil((ymax - ymin) / pixel_size))\n"
   ]
  },
  {
   "cell_type": "code",
   "execution_count": 3,
   "metadata": {},
   "outputs": [],
   "source": [
    "from shapely.geometry import Polygon\n",
    "from shapely.ops import transform\n",
    "\n",
    "# 定义转换函数\n",
    "def shp_to_pixel_coord(x, y):\n",
    "    \"\"\"将shp文件中的坐标转换为像素坐标\"\"\"\n",
    "    x_pix = int((x - xoff) / xres)\n",
    "    y_pix = int((yoff - y) / yres)\n",
    "    return x_pix, y_pix\n",
    "\n",
    "# 将每个几何图形转换为图像中的像素坐标\n",
    "pixel_coords = []\n",
    "for feature in layer:\n",
    "    geom = feature.GetGeometryRef()\n",
    "    if geom is None:\n",
    "        continue\n",
    "    if geom.GetGeometryType() == ogr.wkbPolygon:\n",
    "        # 转换为Shapely的Polygon对象\n",
    "        exterior_ring = geom.GetGeometryRef(0)\n",
    "        # pt=exterior_ring.GetPoints()\n",
    "        # print(pt)\n",
    "        # for pt in exterior_ring.GetPoints():\n",
    "        #     print(pt)\n",
    "        #     # poly = Polygon(pt)\n",
    "        poly = Polygon([(pt[0],pt[1]) for pt in exterior_ring.GetPoints()])\n",
    "        # 转换为像素坐标\n",
    "        poly = transform(shp_to_pixel_coord, poly)\n",
    "        pixel_coords.append(poly.exterior.coords[:-1])\n"
   ]
  },
  {
   "cell_type": "code",
   "execution_count": 4,
   "metadata": {},
   "outputs": [],
   "source": [
    "import cv2\n",
    "\n",
    "# 创建新的图像\n",
    "image = np.zeros((rows, cols), dtype=np.uint8)\n",
    "\n",
    "# 绘制几何图形\n",
    "for coords in pixel_coords:\n",
    "    pts = np.array(coords, np.int32)\n",
    "    cv2.fillPoly(image, [pts], color=(255, 255, 255))\n",
    "\n",
    "# 将图像转换为二值图像\n",
    "thresh, binary_image = cv2.threshold(image, 0, 255, cv2.THRESH_BINARY)\n",
    "# cv2.imshow('image', binary_image)"
   ]
  },
  {
   "cell_type": "code",
   "execution_count": 5,
   "metadata": {},
   "outputs": [
    {
     "data": {
      "text/plain": [
       "True"
      ]
     },
     "execution_count": 5,
     "metadata": {},
     "output_type": "execute_result"
    }
   ],
   "source": [
    "cv2.imwrite('binary_image.png', binary_image)\n"
   ]
  },
  {
   "cell_type": "code",
   "execution_count": 7,
   "metadata": {},
   "outputs": [],
   "source": [
    "block_size = 512\n",
    "\n",
    "# 切分\n",
    "for i in range(0, rows, block_size):\n",
    "    for j in range(0, cols, block_size):\n",
    "        # 提取块\n",
    "        block = binary_image[i:i+block_size, j:j+block_size]\n",
    "        # 忽略空白块\n",
    "        if block.sum() == 0:\n",
    "            continue\n",
    "        # 调整块大小\n",
    "        block = cv2.resize(block, (block_size, block_size), interpolation=cv2.INTER_NEAREST)\n",
    "        # 保存块\n",
    "        # filename = 'block_{i}_{j}.png'\n",
    "        # cv2.imwrite(filename, block)\n",
    "        cv2.imwrite(f'block_{i}_{j}.png', block)"
   ]
  },
  {
   "cell_type": "code",
   "execution_count": null,
   "metadata": {},
   "outputs": [],
   "source": [
    "import cv2\n",
    "import numpy as np\n",
    "\n",
    "# Load image\n",
    "img = cv2.imread('image.png', cv2.IMREAD_GRAYSCALE)\n",
    "\n",
    "# Get image width and height\n",
    "height, width = img.shape[:2]\n",
    "\n",
    "# Define block size\n",
    "block_size = 512\n",
    "\n",
    "# Calculate number of rows and columns\n",
    "rows = int(np.ceil(height / block_size))\n",
    "cols = int(np.ceil(width / block_size))\n",
    "\n",
    "# Calculate new image dimensions\n",
    "new_height = rows * block_size\n",
    "new_width = cols * block_size\n",
    "\n",
    "# Create new image and fill with zeros\n",
    "new_img = np.zeros((new_height, new_width), dtype=np.uint8)\n",
    "\n",
    "# Copy original image to new image\n",
    "new_img[:height, :width] = img\n",
    "\n",
    "# Loop through image and extract blocks\n",
    "for y in range(0, new_height, block_size):\n",
    "    for x in range(0, new_width, block_size):\n",
    "        # Calculate block coordinates\n",
    "        x1 = x\n",
    "        y1 = y\n",
    "        x2 = x + block_size\n",
    "        y2 = y + block_size\n",
    "\n",
    "        # Extract block from image\n",
    "        block = new_img[y1:y2, x1:x2]\n",
    "\n",
    "        # Process block\n",
    "        block = cv2.threshold(block, 127, 255, cv2.THRESH_BINARY)[1]\n",
    "\n",
    "        # Save block to file\n",
    "        filename = f'block_{x1}_{y1}.png'\n",
    "        cv2.imwrite(filename, block)\n"
   ]
  }
 ],
 "metadata": {
  "kernelspec": {
   "display_name": "zrzyb",
   "language": "python",
   "name": "python3"
  },
  "language_info": {
   "codemirror_mode": {
    "name": "ipython",
    "version": 3
   },
   "file_extension": ".py",
   "mimetype": "text/x-python",
   "name": "python",
   "nbconvert_exporter": "python",
   "pygments_lexer": "ipython3",
   "version": "3.8.16"
  },
  "orig_nbformat": 4,
  "vscode": {
   "interpreter": {
    "hash": "b44eb403c8bd975d3eeb8b8db0ec37f6fb94799e325f4faf333c11d827a28bc9"
   }
  }
 },
 "nbformat": 4,
 "nbformat_minor": 2
}
